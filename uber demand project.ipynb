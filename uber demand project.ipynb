{
 "cells": [
  {
   "cell_type": "code",
   "execution_count": 2,
   "metadata": {
    "colab": {
     "base_uri": "https://localhost:8080/"
    },
    "executionInfo": {
     "elapsed": 10814,
     "status": "ok",
     "timestamp": 1754119614235,
     "user": {
      "displayName": "Venugopal Badana",
      "userId": "17180104261246223479"
     },
     "user_tz": -330
    },
    "id": "rm9y8eRmrPZm",
    "outputId": "c2b5d234-bcef-4847-a639-db78f88cbd88"
   },
   "outputs": [
    {
     "name": "stdout",
     "output_type": "stream",
     "text": [
      "Requirement already satisfied: pandas in /usr/local/lib/python3.11/dist-packages (2.2.2)\n",
      "Requirement already satisfied: numpy in /usr/local/lib/python3.11/dist-packages (2.0.2)\n",
      "Collecting faker\n",
      "  Downloading faker-37.5.3-py3-none-any.whl.metadata (15 kB)\n",
      "Requirement already satisfied: python-dateutil>=2.8.2 in /usr/local/lib/python3.11/dist-packages (from pandas) (2.9.0.post0)\n",
      "Requirement already satisfied: pytz>=2020.1 in /usr/local/lib/python3.11/dist-packages (from pandas) (2025.2)\n",
      "Requirement already satisfied: tzdata>=2022.7 in /usr/local/lib/python3.11/dist-packages (from pandas) (2025.2)\n",
      "Requirement already satisfied: six>=1.5 in /usr/local/lib/python3.11/dist-packages (from python-dateutil>=2.8.2->pandas) (1.17.0)\n",
      "Downloading faker-37.5.3-py3-none-any.whl (1.9 MB)\n",
      "\u001b[2K   \u001b[90m━━━━━━━━━━━━━━━━━━━━━━━━━━━━━━━━━━━━━━━━\u001b[0m \u001b[32m1.9/1.9 MB\u001b[0m \u001b[31m42.4 MB/s\u001b[0m eta \u001b[36m0:00:00\u001b[0m\n",
      "\u001b[?25hInstalling collected packages: faker\n",
      "Successfully installed faker-37.5.3\n"
     ]
    }
   ],
   "source": [
    "pip install pandas numpy faker\n"
   ]
  },
  {
   "cell_type": "code",
   "execution_count": 9,
   "metadata": {
    "colab": {
     "base_uri": "https://localhost:8080/"
    },
    "executionInfo": {
     "elapsed": 462,
     "status": "ok",
     "timestamp": 1754120356203,
     "user": {
      "displayName": "Venugopal Badana",
      "userId": "17180104261246223479"
     },
     "user_tz": -330
    },
    "id": "lnE1A-OAq-NM",
    "outputId": "907c3822-fce3-4b59-928f-6ba5d2ca6b16"
   },
   "outputs": [
    {
     "name": "stdout",
     "output_type": "stream",
     "text": [
      "data set\n",
      "   transfer_id  user_id                 login_time  transaction_amount  \\\n",
      "0            1     1441 2025-07-08 11:26:29.903396               93.32   \n",
      "1            2     1729 2025-01-18 17:45:27.255265               47.24   \n",
      "2            3     1803 2025-04-04 02:43:41.282328               46.87   \n",
      "3            4     1818 2025-05-24 09:43:23.136003               10.98   \n",
      "4            5     1576 2025-03-05 14:04:52.797961               26.72   \n",
      "\n",
      "  transaction_type           location device_type transaction_status  \\\n",
      "0              upi         Carterberg      mobile            success   \n",
      "1       netbanking       Barbaramouth      mobile            success   \n",
      "2              upi  North Jeremyshire     desktop            success   \n",
      "3              upi          Coreyview      tablet            success   \n",
      "4       netbanking          Tinaburgh      mobile            success   \n",
      "\n",
      "   fraudulent  \n",
      "0           0  \n",
      "1           0  \n",
      "2           0  \n",
      "3           0  \n",
      "4           0  \n"
     ]
    }
   ],
   "source": [
    "import pandas as pd\n",
    "import numpy as np\n",
    "from faker import Faker\n",
    "\n",
    "# Initialize Faker\n",
    "fake = Faker()\n",
    "\n",
    "\n",
    "\n",
    "# Number of rows\n",
    "num_rows = 1000\n",
    "\n",
    "# Generate data\n",
    "data = {\n",
    "         \"transfer_id\": list(range(1, num_rows + 1)),                      # Simple sequential IDs\n",
    "    \"user_id\": np.random.randint(1000, 2000, size=num_rows)\n",
    "    ,\n",
    "    \"login_time\": [fake.date_time_this_year() for _ in range(num_rows)],\n",
    "    \"transaction_amount\": np.round(np.random.exponential(scale=100, size=num_rows), 2),\n",
    "    \"transaction_type\": np.random.choice(['wallet', 'netbanking', 'upi', 'card'], size=num_rows),\n",
    "    \"location\": [fake.city() for _ in range(num_rows)],\n",
    "    \"device_type\": np.random.choice(['mobile', 'desktop', 'tablet'], size=num_rows),\n",
    "    \"transaction_status\": np.random.choice(['success', 'failure'], size=num_rows, p=[0.9, 0.1]),\n",
    "    \"fraudulent\": np.random.choice([0, 1], size=num_rows, p=[0.95, 0.05])\n",
    "}\n",
    "\n",
    "# Create DataFrame\n",
    "df = pd.DataFrame(data)\n",
    "\n",
    "# Preview the data\n",
    "file_name = pd.DataFrame(df)\n",
    "df.to_csv(\"paytm_fraud_data.csv\", index=False)\n",
    "print(\"data set\")\n",
    "print(df.head())\n"
   ]
  },
  {
   "cell_type": "code",
   "execution_count": 11,
   "metadata": {
    "colab": {
     "base_uri": "https://localhost:8080/",
     "height": 17
    },
    "executionInfo": {
     "elapsed": 18,
     "status": "ok",
     "timestamp": 1754120453616,
     "user": {
      "displayName": "Venugopal Badana",
      "userId": "17180104261246223479"
     },
     "user_tz": -330
    },
    "id": "2_pLBM_yuU_A",
    "outputId": "91aabbb1-0efe-4171-bfb0-b63ed5c7d161"
   },
   "outputs": [
    {
     "data": {
      "application/javascript": "\n    async function download(id, filename, size) {\n      if (!google.colab.kernel.accessAllowed) {\n        return;\n      }\n      const div = document.createElement('div');\n      const label = document.createElement('label');\n      label.textContent = `Downloading \"${filename}\": `;\n      div.appendChild(label);\n      const progress = document.createElement('progress');\n      progress.max = size;\n      div.appendChild(progress);\n      document.body.appendChild(div);\n\n      const buffers = [];\n      let downloaded = 0;\n\n      const channel = await google.colab.kernel.comms.open(id);\n      // Send a message to notify the kernel that we're ready.\n      channel.send({})\n\n      for await (const message of channel.messages) {\n        // Send a message to notify the kernel that we're ready.\n        channel.send({})\n        if (message.buffers) {\n          for (const buffer of message.buffers) {\n            buffers.push(buffer);\n            downloaded += buffer.byteLength;\n            progress.value = downloaded;\n          }\n        }\n      }\n      const blob = new Blob(buffers, {type: 'application/binary'});\n      const a = document.createElement('a');\n      a.href = window.URL.createObjectURL(blob);\n      a.download = filename;\n      div.appendChild(a);\n      a.click();\n      div.remove();\n    }\n  ",
      "text/plain": [
       "<IPython.core.display.Javascript object>"
      ]
     },
     "metadata": {},
     "output_type": "display_data"
    },
    {
     "data": {
      "application/javascript": "download(\"download_cf22e1f4-4f8c-401b-aa2a-e7ea93870767\", \"paytm_fraud_data.csv\", 79199)",
      "text/plain": [
       "<IPython.core.display.Javascript object>"
      ]
     },
     "metadata": {},
     "output_type": "display_data"
    }
   ],
   "source": [
    "from google.colab import files\n",
    "files.download(file_name)"
   ]
  },
  {
   "cell_type": "code",
   "execution_count": 24,
   "metadata": {
    "executionInfo": {
     "elapsed": 6,
     "status": "ok",
     "timestamp": 1754122524917,
     "user": {
      "displayName": "Venugopal Badana",
      "userId": "17180104261246223479"
     },
     "user_tz": -330
    },
    "id": "AMif9XC_r6SP"
   },
   "outputs": [],
   "source": [
    "import pandas as pd\n",
    "import numpy as np\n",
    "import matplotlib.pyplot as plt\n",
    "import seaborn as sns\n",
    "from sklearn.model_selection import train_test_split\n",
    "\n",
    "from sklearn.linear_model import LogisticRegression\n",
    "from sklearn.metrics import classification_report, roc_curve,auc, confusion_matrix\n",
    "\n",
    "#"
   ]
  },
  {
   "cell_type": "code",
   "execution_count": 10,
   "metadata": {
    "colab": {
     "base_uri": "https://localhost:8080/"
    },
    "executionInfo": {
     "elapsed": 90,
     "status": "ok",
     "timestamp": 1754120384801,
     "user": {
      "displayName": "Venugopal Badana",
      "userId": "17180104261246223479"
     },
     "user_tz": -330
    },
    "id": "Sn1CnEzbtL3I",
    "outputId": "4252aeb8-a7d3-4c63-8d14-38d407bea2dd"
   },
   "outputs": [
    {
     "name": "stdout",
     "output_type": "stream",
     "text": [
      "data set\n",
      "   transfer_id  user_id                  login_time  transaction_amount  \\\n",
      "0            1     1441  2025-07-08 11:26:29.903396               93.32   \n",
      "1            2     1729  2025-01-18 17:45:27.255265               47.24   \n",
      "2            3     1803  2025-04-04 02:43:41.282328               46.87   \n",
      "3            4     1818  2025-05-24 09:43:23.136003               10.98   \n",
      "4            5     1576  2025-03-05 14:04:52.797961               26.72   \n",
      "\n",
      "  transaction_type           location device_type transaction_status  \\\n",
      "0              upi         Carterberg      mobile            success   \n",
      "1       netbanking       Barbaramouth      mobile            success   \n",
      "2              upi  North Jeremyshire     desktop            success   \n",
      "3              upi          Coreyview      tablet            success   \n",
      "4       netbanking          Tinaburgh      mobile            success   \n",
      "\n",
      "   fraudulent  \n",
      "0           0  \n",
      "1           0  \n",
      "2           0  \n",
      "3           0  \n",
      "4           0  \n",
      "<class 'pandas.core.frame.DataFrame'>\n",
      "RangeIndex: 1000 entries, 0 to 999\n",
      "Data columns (total 9 columns):\n",
      " #   Column              Non-Null Count  Dtype  \n",
      "---  ------              --------------  -----  \n",
      " 0   transfer_id         1000 non-null   int64  \n",
      " 1   user_id             1000 non-null   int64  \n",
      " 2   login_time          1000 non-null   object \n",
      " 3   transaction_amount  1000 non-null   float64\n",
      " 4   transaction_type    1000 non-null   object \n",
      " 5   location            1000 non-null   object \n",
      " 6   device_type         1000 non-null   object \n",
      " 7   transaction_status  1000 non-null   object \n",
      " 8   fraudulent          1000 non-null   int64  \n",
      "dtypes: float64(1), int64(3), object(5)\n",
      "memory usage: 70.4+ KB\n"
     ]
    }
   ],
   "source": [
    "file_name = \"paytm_fraud_data.csv\"\n",
    "df = pd.read_csv(file_name)\n",
    "print(\"data set\")\n",
    "print(df.head())\n",
    "df.info()\n"
   ]
  },
  {
   "cell_type": "code",
   "execution_count": 12,
   "metadata": {
    "colab": {
     "base_uri": "https://localhost:8080/"
    },
    "executionInfo": {
     "elapsed": 24,
     "status": "ok",
     "timestamp": 1754120686937,
     "user": {
      "displayName": "Venugopal Badana",
      "userId": "17180104261246223479"
     },
     "user_tz": -330
    },
    "id": "cWg2ZjzIutmQ",
    "outputId": "c1381cd6-9bff-42a8-b5c4-98566f6c5032"
   },
   "outputs": [
    {
     "name": "stdout",
     "output_type": "stream",
     "text": [
      "\n",
      "Missing Values :\n",
      "transfer_id           0\n",
      "user_id               0\n",
      "login_time            0\n",
      "transaction_amount    0\n",
      "transaction_type      0\n",
      "location              0\n",
      "device_type           0\n",
      "transaction_status    0\n",
      "fraudulent            0\n",
      "dtype: int64\n",
      "   transfer_id  user_id                  login_time  transaction_amount  \\\n",
      "0            1     1441  2025-07-08 11:26:29.903396               93.32   \n",
      "1            2     1729  2025-01-18 17:45:27.255265               47.24   \n",
      "2            3     1803  2025-04-04 02:43:41.282328               46.87   \n",
      "3            4     1818  2025-05-24 09:43:23.136003               10.98   \n",
      "4            5     1576  2025-03-05 14:04:52.797961               26.72   \n",
      "\n",
      "  transaction_status  fraudulent  transaction_type_card  \\\n",
      "0            success           0                  False   \n",
      "1            success           0                  False   \n",
      "2            success           0                  False   \n",
      "3            success           0                  False   \n",
      "4            success           0                  False   \n",
      "\n",
      "   transaction_type_netbanking  transaction_type_upi  transaction_type_wallet  \\\n",
      "0                        False                  True                    False   \n",
      "1                         True                 False                    False   \n",
      "2                        False                  True                    False   \n",
      "3                        False                  True                    False   \n",
      "4                         True                 False                    False   \n",
      "\n",
      "   ...  location_Wrighthaven  location_Wrightton  location_Wuport  \\\n",
      "0  ...                 False               False            False   \n",
      "1  ...                 False               False            False   \n",
      "2  ...                 False               False            False   \n",
      "3  ...                 False               False            False   \n",
      "4  ...                 False               False            False   \n",
      "\n",
      "   location_Yangview  location_Yeseniaview  location_Yolandaville  \\\n",
      "0              False                 False                  False   \n",
      "1              False                 False                  False   \n",
      "2              False                 False                  False   \n",
      "3              False                 False                  False   \n",
      "4              False                 False                  False   \n",
      "\n",
      "   location_Yvonneberg  device_type_desktop  device_type_mobile  \\\n",
      "0                False                False                True   \n",
      "1                False                False                True   \n",
      "2                False                 True               False   \n",
      "3                False                False               False   \n",
      "4                False                False                True   \n",
      "\n",
      "   device_type_tablet  \n",
      "0               False  \n",
      "1               False  \n",
      "2               False  \n",
      "3                True  \n",
      "4               False  \n",
      "\n",
      "[5 rows x 976 columns]\n"
     ]
    }
   ],
   "source": [
    "print(\"\\nMissing Values :\")\n",
    "print(df.isnull().sum())\n",
    "df = pd.get_dummies(df, columns=['transaction_type', 'location', 'device_type'])\n",
    "print(df.head())\n",
    "df['transaction_status'] = df['transaction_status'].map({'success': 1, 'failure': 0})\n",
    "\n",
    "#"
   ]
  },
  {
   "cell_type": "code",
   "execution_count": 13,
   "metadata": {
    "colab": {
     "base_uri": "https://localhost:8080/",
     "height": 592
    },
    "executionInfo": {
     "elapsed": 367,
     "status": "ok",
     "timestamp": 1754120930682,
     "user": {
      "displayName": "Venugopal Badana",
      "userId": "17180104261246223479"
     },
     "user_tz": -330
    },
    "id": "ELrjxf0Hvmz3",
    "outputId": "57657c51-56b2-46cc-ffdd-eec554813d00"
   },
   "outputs": [
    {
     "name": "stderr",
     "output_type": "stream",
     "text": [
      "/tmp/ipython-input-716546200.py:2: FutureWarning: \n",
      "\n",
      "Passing `palette` without assigning `hue` is deprecated and will be removed in v0.14.0. Assign the `x` variable to `hue` and set `legend=False` for the same effect.\n",
      "\n",
      "  sns.countplot(x='fraudulent', data=df,palette=\"coolwarm\")\n"
     ]
    },
    {
     "data": {
      "image/png": "[encoded data removed]",
      "text/plain": [
       "<Figure size 1200x600 with 1 Axes>"
      ]
     },
     "metadata": {},
     "output_type": "display_data"
    }
   ],
   "source": [
    "plt.figure(figsize=(12,6))\n",
    "sns.countplot(x='fraudulent', data=df,palette=\"coolwarm\")\n",
    "plt.title(\"Fraudulent vs Transaction\")\n",
    "plt.xlabel(\"Fraudulent\")\n",
    "plt.ylabel(\"Count\")\n",
    "plt.show()\n",
    "\n",
    "#"
   ]
  },
  {
   "cell_type": "markdown",
   "metadata": {
    "id": "UendpanDwm0h"
   },
   "source": [
    "majority transactions are legit\n",
    "class imbalace"
   ]
  },
  {
   "cell_type": "code",
   "execution_count": 14,
   "metadata": {
    "colab": {
     "base_uri": "https://localhost:8080/",
     "height": 487
    },
    "executionInfo": {
     "elapsed": 356,
     "status": "ok",
     "timestamp": 1754121250390,
     "user": {
      "displayName": "Venugopal Badana",
      "userId": "17180104261246223479"
     },
     "user_tz": -330
    },
    "id": "GAQmNC4XwbNE",
    "outputId": "8b469436-92ac-4d79-dee6-24f940bbaf28"
   },
   "outputs": [
    {
     "data": {
      "image/png": "[encoded data removed]",
      "text/plain": [
       "<Figure size 800x500 with 1 Axes>"
      ]
     },
     "metadata": {},
     "output_type": "display_data"
    }
   ],
   "source": [
    "plt.figure(figsize=(8,5))\n",
    "sns.histplot(df['transaction_amount'], kde=True)\n",
    "plt.title(\"Transaction Amount Distribution\")\n",
    "plt.xlabel(\"Transaction Amount\")\n",
    "plt.ylabel(\"Frequency\")\n",
    "plt.show()\n",
    "\n",
    "#"
   ]
  },
  {
   "cell_type": "code",
   "execution_count": 16,
   "metadata": {
    "colab": {
     "base_uri": "https://localhost:8080/"
    },
    "executionInfo": {
     "elapsed": 20,
     "status": "ok",
     "timestamp": 1754121731381,
     "user": {
      "displayName": "Venugopal Badana",
      "userId": "17180104261246223479"
     },
     "user_tz": -330
    },
    "id": "ebMYyDlFwege",
    "outputId": "9fbad7ed-06ba-406c-f9ea-3238ed00d7da"
   },
   "outputs": [
    {
     "name": "stdout",
     "output_type": "stream",
     "text": [
      "x_train shape: (800, 972)\n",
      "x_test shape: (200, 972)\n",
      "y_train shape: (800,)\n",
      "y_test shape: (200,)\n"
     ]
    }
   ],
   "source": [
    "x = df.drop(columns=[\"transfer_id\",\"user_id\",\"login_time\",\"fraudulent\"])\n",
    "y = df[\"fraudulent\"]\n",
    "x_train, x_test, y_train, y_test = train_test_split(x, y, test_size=0.2, random_state=42)\n",
    "print(\"x_train shape:\", x_train.shape)\n",
    "print(\"x_test shape:\", x_test.shape)\n",
    "print(\"y_train shape:\", y_train.shape)\n",
    "print(\"y_test shape:\", y_test.shape)"
   ]
  },
  {
   "cell_type": "code",
   "execution_count": 19,
   "metadata": {
    "colab": {
     "base_uri": "https://localhost:8080/"
    },
    "executionInfo": {
     "elapsed": 2565,
     "status": "ok",
     "timestamp": 1754122070776,
     "user": {
      "displayName": "Venugopal Badana",
      "userId": "17180104261246223479"
     },
     "user_tz": -330
    },
    "id": "pShM0MAyz6qd",
    "outputId": "ab81921a-f87f-46c5-e99a-1c68d2fdcb9a"
   },
   "outputs": [
    {
     "name": "stdout",
     "output_type": "stream",
     "text": [
      "classification report\n",
      "              precision    recall  f1-score   support\n",
      "\n",
      "           0       0.95      1.00      0.97       190\n",
      "           1       0.00      0.00      0.00        10\n",
      "\n",
      "    accuracy                           0.95       200\n",
      "   macro avg       0.47      0.50      0.49       200\n",
      "weighted avg       0.90      0.95      0.93       200\n",
      "\n",
      "[[190   0]\n",
      " [ 10   0]]\n"
     ]
    },
    {
     "name": "stderr",
     "output_type": "stream",
     "text": [
      "/usr/local/lib/python3.11/dist-packages/sklearn/metrics/_classification.py:1565: UndefinedMetricWarning: Precision is ill-defined and being set to 0.0 in labels with no predicted samples. Use `zero_division` parameter to control this behavior.\n",
      "  _warn_prf(average, modifier, f\"{metric.capitalize()} is\", len(result))\n",
      "/usr/local/lib/python3.11/dist-packages/sklearn/metrics/_classification.py:1565: UndefinedMetricWarning: Precision is ill-defined and being set to 0.0 in labels with no predicted samples. Use `zero_division` parameter to control this behavior.\n",
      "  _warn_prf(average, modifier, f\"{metric.capitalize()} is\", len(result))\n",
      "/usr/local/lib/python3.11/dist-packages/sklearn/metrics/_classification.py:1565: UndefinedMetricWarning: Precision is ill-defined and being set to 0.0 in labels with no predicted samples. Use `zero_division` parameter to control this behavior.\n",
      "  _warn_prf(average, modifier, f\"{metric.capitalize()} is\", len(result))\n"
     ]
    }
   ],
   "source": [
    "model = LogisticRegression(max_iter=1000,random_state=42)\n",
    "model.fit(x_train, y_train)\n",
    "y_pred = model.predict(x_test)\n",
    "print(\"classification report\")\n",
    "print(classification_report(y_test, y_pred))\n",
    "print(confusion_matrix(y_test, y_pred))\n",
    "#"
   ]
  },
  {
   "cell_type": "code",
   "execution_count": 25,
   "metadata": {
    "colab": {
     "base_uri": "https://localhost:8080/",
     "height": 487
    },
    "executionInfo": {
     "elapsed": 767,
     "status": "ok",
     "timestamp": 1754122533201,
     "user": {
      "displayName": "Venugopal Badana",
      "userId": "17180104261246223479"
     },
     "user_tz": -330
    },
    "id": "AxIeSwyb0vdU",
    "outputId": "5152b4d6-3bf0-4c5b-e04c-bb8ecd7306d9"
   },
   "outputs": [
    {
     "data": {
      "image/png": "[encoded data removed]",
      "text/plain": [
       "<Figure size 800x500 with 1 Axes>"
      ]
     },
     "metadata": {},
     "output_type": "display_data"
    }
   ],
   "source": [
    "y_prob = model.predict_proba(x_test)[:, 1]\n",
    "fpr, tpr, thresholds = roc_curve(y_test, y_prob)\n",
    "roc_auc = auc(fpr, tpr)\n",
    "plt.figure(figsize=(8,5))\n",
    "plt.plot(fpr, tpr, color='darkorange', lw=2, label='ROC curve (area = %0.2f)' % roc_auc)\n",
    "plt.plot([0, 1], [0, 1], color='navy', lw=2, linestyle='--')\n",
    "plt.xlim([0.0, 1.0])\n",
    "plt.ylim([0.0, 1.05])\n",
    "plt.title(\"Roc Curve\")\n",
    "plt.xlabel(\"False Positive Rate\")\n",
    "plt.ylabel(\"True Positive Rate\")\n",
    "plt.legend(loc=\"lower right\")\n",
    "plt.show()\n",
    "#"
   ]
  },
  {
   "cell_type": "code",
   "execution_count": 26,
   "metadata": {
    "colab": {
     "base_uri": "https://localhost:8080/"
    },
    "executionInfo": {
     "elapsed": 20,
     "status": "ok",
     "timestamp": 1754122641372,
     "user": {
      "displayName": "Venugopal Badana",
      "userId": "17180104261246223479"
     },
     "user_tz": -330
    },
    "id": "41_soEPk2qao",
    "outputId": "85a12acf-372c-4e42-8f2d-fc5d167447a8"
   },
   "outputs": [
    {
     "name": "stdout",
     "output_type": "stream",
     "text": [
      "Model saved as paytm_fraud_detection_model.joblib\n"
     ]
    }
   ],
   "source": [
    "import joblib\n",
    "model_fileNmae = \"paytm_fraud_detection_model.joblib\"\n",
    "joblib.dump(model, model_fileNmae)\n",
    "print(f\"Model saved as {model_fileNmae}\")\n",
    "#"
   ]
  }
 ],
 "metadata": {
  "colab": {
   "authorship_tag": "ABX9TyNwN+dQ1lYFy9qP4YedzVHH",
   "provenance": []
  },
  "kernelspec": {
   "display_name": "Python 3",
   "name": "python3"
  },
  "language_info": {
   "name": "python"
  }
 },
 "nbformat": 4,
 "nbformat_minor": 0
}
