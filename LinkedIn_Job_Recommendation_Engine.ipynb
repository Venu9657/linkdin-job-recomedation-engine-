{
  "cells": [
    {
      "cell_type": "markdown",
      "id": "bed170be",
      "metadata": {
        "id": "bed170be"
      },
      "source": [
        "# **LinkedIn Job Recommendation Engine**"
      ]
    },
    {
      "cell_type": "markdown",
      "id": "0be975cd",
      "metadata": {
        "id": "0be975cd"
      },
      "source": [
        "## **Objective**"
      ]
    },
    {
      "cell_type": "markdown",
      "id": "98be5212",
      "metadata": {
        "id": "98be5212"
      },
      "source": [
        "To build a supervised machine learning model to predict suitable job roles for LinkedIn users based on their profiles."
      ]
    },
    {
      "cell_type": "markdown",
      "id": "6cfe61e6",
      "metadata": {
        "id": "6cfe61e6"
      },
      "source": [
        "## **1. Importing Libraries**"
      ]
    },
    {
      "cell_type": "markdown",
      "id": "6f5dc91e",
      "metadata": {
        "id": "6f5dc91e"
      },
      "source": [
        "**Theory:**\n",
        "\n",
        "We use the following libraries:\n",
        "- `pandas`: For data manipulation.\n",
        "- `matplotlib.pyplot` and `seaborn`: For data visualization.\n",
        "- `sklearn`: For machine learning modeling and evaluation."
      ]
    },
    {
      "cell_type": "code",
      "execution_count": null,
      "id": "62f1cf38",
      "metadata": {
        "id": "62f1cf38"
      },
      "outputs": [],
      "source": [
        "# Import necessary libraries\n",
        "import pandas as pd\n",
        "import matplotlib.pyplot as plt\n",
        "import seaborn as sns\n",
        "from sklearn.model_selection import train_test_split\n",
        "from sklearn.preprocessing import LabelEncoder\n",
        "from sklearn.ensemble import RandomForestClassifier\n",
        "from sklearn.metrics import classification_report, confusion_matrix"
      ]
    },
    {
      "cell_type": "markdown",
      "id": "86b819d4",
      "metadata": {
        "id": "86b819d4"
      },
      "source": [
        "## **2. Loading the Dataset**"
      ]
    },
    {
      "cell_type": "markdown",
      "id": "3e3ec636",
      "metadata": {
        "id": "3e3ec636"
      },
      "source": [
        "**Theory:**\n",
        "\n",
        "Load the dataset and inspect its structure to understand the available data and identify potential issues."
      ]
    },
    {
      "cell_type": "code",
      "execution_count": null,
      "id": "27a41e43",
      "metadata": {
        "colab": {
          "base_uri": "https://localhost:8080/"
        },
        "id": "27a41e43",
        "outputId": "11411cb9-2855-4be3-c571-36df2825e59c"
      },
      "outputs": [
        {
          "name": "stdout",
          "output_type": "stream",
          "text": [
            "Dataset Overview:\n",
            "     User ID  Years of Experience           Skills Education Level   Industry  \\\n",
            "0  USER00001                    8              SQL      Bachelor's     Retail   \n",
            "1  USER00002                   16             Java        Master's         IT   \n",
            "2  USER00003                    8  Web Development      Bachelor's    Finance   \n",
            "3  USER00004                    1           Python      Bachelor's  Education   \n",
            "4  USER00005                   17              SQL        Master's    Finance   \n",
            "\n",
            "  Preferred Job Role Recommended Job Role  \n",
            "0       Data Analyst        Web Developer  \n",
            "1    Project Manager      Project Manager  \n",
            "2   System Architect    Software Engineer  \n",
            "3       Data Analyst        Web Developer  \n",
            "4   System Architect         Data Analyst  \n",
            "\n",
            "Dataset Information:\n",
            "<class 'pandas.core.frame.DataFrame'>\n",
            "RangeIndex: 1000 entries, 0 to 999\n",
            "Data columns (total 7 columns):\n",
            " #   Column                Non-Null Count  Dtype \n",
            "---  ------                --------------  ----- \n",
            " 0   User ID               1000 non-null   object\n",
            " 1   Years of Experience   1000 non-null   int64 \n",
            " 2   Skills                1000 non-null   object\n",
            " 3   Education Level       1000 non-null   object\n",
            " 4   Industry              1000 non-null   object\n",
            " 5   Preferred Job Role    1000 non-null   object\n",
            " 6   Recommended Job Role  1000 non-null   object\n",
            "dtypes: int64(1), object(6)\n",
            "memory usage: 54.8+ KB\n"
          ]
        }
      ],
      "source": [
        "# Load the dataset\n",
        "file_name = \"linkedin_job_data.csv\"\n",
        "df = pd.read_csv(file_name)\n",
        "\n",
        "# Display the first few rows of the dataset\n",
        "print(\"Dataset Overview:\")\n",
        "print(df.head())\n",
        "\n",
        "# Check basic information about the dataset\n",
        "print(\"\\nDataset Information:\")\n",
        "df.info()"
      ]
    },
    {
      "cell_type": "markdown",
      "id": "ff1ec4d5",
      "metadata": {
        "id": "ff1ec4d5"
      },
      "source": [
        "## **3. Data Cleaning and Preprocessing**"
      ]
    },
    {
      "cell_type": "markdown",
      "id": "1427c34f",
      "metadata": {
        "id": "1427c34f"
      },
      "source": [
        "**Theory:**\n",
        "\n",
        "Data cleaning involves:\n",
        "- Handling null values.\n",
        "- Encoding categorical variables.\n",
        "- Splitting the data into features (`X`) and target (`y`)."
      ]
    },
    {
      "cell_type": "code",
      "execution_count": null,
      "id": "18d9d276",
      "metadata": {
        "colab": {
          "base_uri": "https://localhost:8080/"
        },
        "id": "18d9d276",
        "outputId": "30cb5760-b81a-4dc4-b4b7-3c0853bc398f"
      },
      "outputs": [
        {
          "name": "stdout",
          "output_type": "stream",
          "text": [
            "\n",
            "Missing Values:\n",
            "User ID                 0\n",
            "Years of Experience     0\n",
            "Skills                  0\n",
            "Education Level         0\n",
            "Industry                0\n",
            "Preferred Job Role      0\n",
            "Recommended Job Role    0\n",
            "dtype: int64\n",
            "\n",
            "Cleaned Data Sample:\n",
            "     User ID  Years of Experience  Skills  Education Level  Industry  \\\n",
            "0  USER00001                    8       5                0         4   \n",
            "1  USER00002                   16       2                2         3   \n",
            "2  USER00003                    8       6                0         1   \n",
            "3  USER00004                    1       4                0         0   \n",
            "4  USER00005                   17       5                2         1   \n",
            "\n",
            "   Preferred Job Role  Recommended Job Role  \n",
            "0                   0                     4  \n",
            "1                   1                     1  \n",
            "2                   3                     2  \n",
            "3                   0                     4  \n",
            "4                   3                     0  \n"
          ]
        }
      ],
      "source": [
        "# Check for missing values\n",
        "print(\"\\nMissing Values:\")\n",
        "print(df.isnull().sum())\n",
        "\n",
        "# Encode categorical variables\n",
        "encoder = LabelEncoder()\n",
        "categorical_columns = [\"Skills\", \"Education Level\", \"Industry\", \"Preferred Job Role\", \"Recommended Job Role\"]\n",
        "for col in categorical_columns:\n",
        "    df[col] = encoder.fit_transform(df[col])\n",
        "\n",
        "# Define features (X) and target (y)\n",
        "X = df.drop(columns=[\"User ID\", \"Recommended Job Role\"])\n",
        "y = df[\"Recommended Job Role\"]\n",
        "\n",
        "# Display cleaned data\n",
        "print(\"\\nCleaned Data Sample:\")\n",
        "print(df.head())"
      ]
    },
    {
      "cell_type": "markdown",
      "id": "1d05fd13",
      "metadata": {
        "id": "1d05fd13"
      },
      "source": [
        "## **4. Exploratory Data Analysis (EDA)**"
      ]
    },
    {
      "cell_type": "markdown",
      "id": "31e21713",
      "metadata": {
        "id": "31e21713"
      },
      "source": [
        "### **4.1 Distribution of Recommended Job Roles**"
      ]
    },
    {
      "cell_type": "markdown",
      "id": "59a87d46",
      "metadata": {
        "id": "59a87d46"
      },
      "source": [
        "**Theory:**\n",
        "\n",
        "Visualizing the distribution of job roles provides insight into the dataset's target variable."
      ]
    },
    {
      "cell_type": "code",
      "execution_count": null,
      "id": "5b8b27f2",
      "metadata": {
        "colab": {
          "base_uri": "https://localhost:8080/",
          "height": 594
        },
        "id": "5b8b27f2",
        "outputId": "89681578-39cc-44a4-af0b-595e0df0e88d"
      },
      "outputs": [
        {
          "name": "stderr",
          "output_type": "stream",
          "text": [
            "/tmp/ipython-input-504765848.py:3: FutureWarning: \n",
            "\n",
            "Passing `palette` without assigning `hue` is deprecated and will be removed in v0.14.0. Assign the `x` variable to `hue` and set `legend=False` for the same effect.\n",
            "\n",
            "  sns.countplot(x=y, palette=\"viridis\")\n"
          ]
        },
        {
          "data": {
            "image/png": "[encoded data removed]",
            "text/plain": [
              "<Figure size 800x500 with 1 Axes>"
            ]
          },
          "metadata": {},
          "output_type": "display_data"
        }
      ],
      "source": [
        "# Plot the distribution of recommended job roles\n",
        "plt.figure(figsize=(8, 5))\n",
        "sns.countplot(x=y, palette=\"viridis\")\n",
        "plt.title(\"Distribution of Recommended Job Roles\")\n",
        "plt.xlabel(\"Recommended Job Role\")\n",
        "plt.ylabel(\"Count\")\n",
        "plt.show()"
      ]
    },
    {
      "cell_type": "markdown",
      "id": "8b9501f2",
      "metadata": {
        "id": "8b9501f2"
      },
      "source": [
        "### **4.2 Years of Experience vs. Recommended Job Role**"
      ]
    },
    {
      "cell_type": "markdown",
      "id": "53ed6bde",
      "metadata": {
        "id": "53ed6bde"
      },
      "source": [
        "**Theory:**\n",
        "\n",
        "Analyzing how experience impacts the recommendation of job roles helps validate the model."
      ]
    },
    {
      "cell_type": "code",
      "execution_count": null,
      "id": "085afb3e",
      "metadata": {
        "id": "085afb3e"
      },
      "outputs": [],
      "source": [
        "# Box plot for years of experience by recommended job role\n",
        "plt.figure(figsize=(10, 6))\n",
        "sns.boxplot(x=y, y=df[\"Years of Experience\"], palette=\"coolwarm\")\n",
        "plt.title(\"Years of Experience by Recommended Job Role\")\n",
        "plt.xlabel(\"Recommended Job Role\")\n",
        "plt.ylabel(\"Years of Experience\")\n",
        "plt.show()"
      ]
    },
    {
      "cell_type": "markdown",
      "id": "6ff09306",
      "metadata": {
        "id": "6ff09306"
      },
      "source": [
        "## **5. Splitting Data for Modeling**"
      ]
    },
    {
      "cell_type": "markdown",
      "id": "311cb865",
      "metadata": {
        "id": "311cb865"
      },
      "source": [
        "**Theory:**\n",
        "\n",
        "Split the data into training and testing sets to evaluate the model’s performance."
      ]
    },
    {
      "cell_type": "code",
      "execution_count": null,
      "id": "4c837067",
      "metadata": {
        "colab": {
          "base_uri": "https://localhost:8080/"
        },
        "id": "4c837067",
        "outputId": "fa7e11d8-fbbe-49e7-f106-e637416b43b2"
      },
      "outputs": [
        {
          "name": "stdout",
          "output_type": "stream",
          "text": [
            "Training Set: (800, 5)\n",
            "Testing Set: (200, 5)\n"
          ]
        }
      ],
      "source": [
        "# Split the data\n",
        "X_train, X_test, y_train, y_test = train_test_split(X, y, test_size=0.2, random_state=42)\n",
        "print(f\"Training Set: {X_train.shape}\")\n",
        "print(f\"Testing Set: {X_test.shape}\")"
      ]
    },
    {
      "cell_type": "markdown",
      "id": "b9dd3a38",
      "metadata": {
        "id": "b9dd3a38"
      },
      "source": [
        "## **6. Model Training and Evaluation**"
      ]
    },
    {
      "cell_type": "markdown",
      "id": "ac0a7e00",
      "metadata": {
        "id": "ac0a7e00"
      },
      "source": [
        "### **6.1 Random Forest Classifier**"
      ]
    },
    {
      "cell_type": "markdown",
      "id": "8c4ee5d1",
      "metadata": {
        "id": "8c4ee5d1"
      },
      "source": [
        "**Theory:**\n",
        "\n",
        "Random Forest is a robust classifier for multi-class problems."
      ]
    },
    {
      "cell_type": "code",
      "execution_count": null,
      "id": "9a9b2f55",
      "metadata": {
        "colab": {
          "base_uri": "https://localhost:8080/"
        },
        "id": "9a9b2f55",
        "outputId": "fd08360d-434f-4d35-fe39-4b1bd84b71a8"
      },
      "outputs": [
        {
          "name": "stdout",
          "output_type": "stream",
          "text": [
            "Classification Report:\n",
            "              precision    recall  f1-score   support\n",
            "\n",
            "           0       0.20      0.24      0.22        37\n",
            "           1       0.22      0.21      0.22        42\n",
            "           2       0.23      0.31      0.26        39\n",
            "           3       0.13      0.14      0.14        35\n",
            "           4       0.12      0.06      0.08        47\n",
            "\n",
            "    accuracy                           0.19       200\n",
            "   macro avg       0.18      0.19      0.18       200\n",
            "weighted avg       0.18      0.19      0.18       200\n",
            "\n",
            "\n",
            "Confusion Matrix:\n",
            "[[ 9  9  7  7  5]\n",
            " [ 8  9 12  8  5]\n",
            " [ 6  4 12 11  6]\n",
            " [10  6  9  5  5]\n",
            " [11 13 12  8  3]]\n"
          ]
        }
      ],
      "source": [
        "# Train the Random Forest model\n",
        "model = RandomForestClassifier(random_state=42)\n",
        "model.fit(X_train, y_train)\n",
        "\n",
        "# Predict on test data\n",
        "y_pred = model.predict(X_test)\n",
        "\n",
        "# Evaluate the model\n",
        "print(\"Classification Report:\")\n",
        "print(classification_report(y_test, y_pred))\n",
        "\n",
        "print(\"\\nConfusion Matrix:\")\n",
        "print(confusion_matrix(y_test, y_pred))"
      ]
    },
    {
      "cell_type": "markdown",
      "id": "0af33afb",
      "metadata": {
        "id": "0af33afb"
      },
      "source": [
        "### **6.2 Feature Importance**"
      ]
    },
    {
      "cell_type": "markdown",
      "id": "d2085290",
      "metadata": {
        "id": "d2085290"
      },
      "source": [
        "**Theory:**\n",
        "\n",
        "Understanding which features are most important helps in improving model interpretability."
      ]
    },
    {
      "cell_type": "code",
      "execution_count": null,
      "id": "4c1deb3f",
      "metadata": {
        "colab": {
          "base_uri": "https://localhost:8080/",
          "height": 733
        },
        "id": "4c1deb3f",
        "outputId": "d71e0a61-4837-41be-ad7d-7689d8c1c3d5"
      },
      "outputs": [
        {
          "name": "stdout",
          "output_type": "stream",
          "text": [
            "\n",
            "Feature Importance:\n",
            "               Feature  Importance\n",
            "0  Years of Experience    0.352668\n",
            "1               Skills    0.207642\n",
            "4   Preferred Job Role    0.173969\n",
            "3             Industry    0.160068\n",
            "2      Education Level    0.105654\n"
          ]
        },
        {
          "name": "stderr",
          "output_type": "stream",
          "text": [
            "/tmp/ipython-input-3565314275.py:12: FutureWarning: \n",
            "\n",
            "Passing `palette` without assigning `hue` is deprecated and will be removed in v0.14.0. Assign the `y` variable to `hue` and set `legend=False` for the same effect.\n",
            "\n",
            "  sns.barplot(x=\"Importance\", y=\"Feature\", data=feature_importance, palette=\"magma\")\n"
          ]
        },
        {
          "data": {
            "image/png": "[encoded data removed]",
            "text/plain": [
              "<Figure size 800x500 with 1 Axes>"
            ]
          },
          "metadata": {},
          "output_type": "display_data"
        }
      ],
      "source": [
        "# Display feature importance\n",
        "feature_importance = pd.DataFrame({\n",
        "    \"Feature\": X.columns,\n",
        "    \"Importance\": model.feature_importances_\n",
        "}).sort_values(by=\"Importance\", ascending=False)\n",
        "\n",
        "print(\"\\nFeature Importance:\")\n",
        "print(feature_importance)\n",
        "\n",
        "# Plot feature importance\n",
        "plt.figure(figsize=(8, 5))\n",
        "sns.barplot(x=\"Importance\", y=\"Feature\", data=feature_importance, palette=\"magma\")\n",
        "plt.title(\"Feature Importance\")\n",
        "plt.show()"
      ]
    },
    {
      "cell_type": "markdown",
      "id": "d60ebd18",
      "metadata": {
        "id": "d60ebd18"
      },
      "source": [
        "## **7. Visualizing Predictions**"
      ]
    },
    {
      "cell_type": "markdown",
      "id": "ccb7b882",
      "metadata": {
        "id": "ccb7b882"
      },
      "source": [
        "**Theory:**\n",
        "\n",
        "Compare the actual and predicted job roles using a confusion matrix."
      ]
    },
    {
      "cell_type": "code",
      "execution_count": null,
      "id": "174f8d36",
      "metadata": {
        "colab": {
          "base_uri": "https://localhost:8080/",
          "height": 564
        },
        "id": "174f8d36",
        "outputId": "e5314365-58fd-4dbe-9f55-875985cb2f76"
      },
      "outputs": [
        {
          "data": {
            "image/png": "[encoded data removed]",
            "text/plain": [
              "<Figure size 800x600 with 2 Axes>"
            ]
          },
          "metadata": {},
          "output_type": "display_data"
        }
      ],
      "source": [
        "# Heatmap for confusion matrix\n",
        "conf_matrix = confusion_matrix(y_test, y_pred)\n",
        "\n",
        "plt.figure(figsize=(8, 6))\n",
        "sns.heatmap(conf_matrix, annot=True, fmt=\"d\", cmap=\"Blues\")\n",
        "plt.title(\"Confusion Matrix\")\n",
        "plt.xlabel(\"Predicted\")\n",
        "plt.ylabel(\"Actual\")\n",
        "plt.show()"
      ]
    },
    {
      "cell_type": "markdown",
      "id": "4cee7b1c",
      "metadata": {
        "id": "4cee7b1c"
      },
      "source": [
        "## **8. Saving the Model**"
      ]
    },
    {
      "cell_type": "markdown",
      "id": "80a24fe2",
      "metadata": {
        "id": "80a24fe2"
      },
      "source": [
        "**Theory:**\n",
        "\n",
        "Save the trained model for future use."
      ]
    },
    {
      "cell_type": "code",
      "execution_count": null,
      "id": "7201a1e8",
      "metadata": {
        "colab": {
          "base_uri": "https://localhost:8080/"
        },
        "id": "7201a1e8",
        "outputId": "06e3ee6b-1a3f-4b57-c1b8-cd36b08cc629"
      },
      "outputs": [
        {
          "name": "stdout",
          "output_type": "stream",
          "text": [
            "Model saved as linkedin_job_recommendation_model.pkl\n"
          ]
        }
      ],
      "source": [
        "# Save the model\n",
        "import joblib\n",
        "\n",
        "model_filename = \"linkedin_job_recommendation_model.pkl\"\n",
        "joblib.dump(model, model_filename)\n",
        "print(f\"Model saved as {model_filename}\")"
      ]
    }
  ],
  "metadata": {
    "colab": {
      "provenance": []
    },
    "kernelspec": {
      "display_name": "Python 3",
      "name": "python3"
    },
    "language_info": {
      "name": "python"
    }
  },
  "nbformat": 4,
  "nbformat_minor": 5
}
